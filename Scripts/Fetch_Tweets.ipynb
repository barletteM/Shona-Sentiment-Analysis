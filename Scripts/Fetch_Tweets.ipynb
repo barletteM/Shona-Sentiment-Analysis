{
 "cells": [
  {
   "cell_type": "code",
   "execution_count": 3,
   "id": "a2cb020c",
   "metadata": {},
   "outputs": [],
   "source": [
    "#Important Libraries\n",
    "import tweepy\n",
    "import pandas as pd\n",
    "import csv"
   ]
  },
  {
   "cell_type": "code",
   "execution_count": 4,
   "id": "cd0353d1",
   "metadata": {},
   "outputs": [],
   "source": [
    "#Define Access Tokens, from Twitter API\n",
    "access_token = \"access token\"\n",
    "access_token_secret = \"access token secret\"\n",
    "api_key = \"api key\"\n",
    "api_key_secret = \"api key secret\""
   ]
  },
  {
   "cell_type": "code",
   "execution_count": 5,
   "id": "ca0ca892",
   "metadata": {},
   "outputs": [],
   "source": [
    "#Define configuration with twitter\n",
    "auth = tweepy.OAuthHandler(consumer_key=api_key, consumer_secret=api_key_secret)\n",
    "auth.set_access_token(access_token,access_token_secret)\n",
    "\n",
    "api = tweepy.API(auth, wait_on_rate_limit = True)\n",
    "#print(api)\n",
    "\n",
    "#zimbabwe_woeid =1466847\n",
    "#example shona key word\n",
    "keywords = \"baba\" + \"-filter:retweets\"\n",
    "limit = 3000"
   ]
  },
  {
   "cell_type": "code",
   "execution_count": null,
   "id": "6e793546",
   "metadata": {},
   "outputs": [],
   "source": [
    "#Fetch tweets\n",
    "tweets = tweepy.Cursor(api.search_tweets,q = keywords, count = 100, tweet_mode = 'extended' ).items(limit)\n",
    "\n",
    "columns = ['User','Tweet','Time','Favorite_count']\n",
    "data = []\n",
    "\n",
    "for tweet in tweets:\n",
    "    data.append([tweet.user.screen_name.('utf-8'),tweet.full_text.encode('utf-8'),tweet.created_at,tweet.favorite_count])\n",
    "df= pd.DataFrame(data,columns=columns)\n"
   ]
  },
  {
   "cell_type": "code",
   "execution_count": null,
   "id": "ba938b46",
   "metadata": {},
   "outputs": [],
   "source": [
    "#Save to a csv file\n",
    "df.to_csv('Tweets.csv')"
   ]
  }
 ],
 "metadata": {
  "kernelspec": {
   "display_name": "Python 3 (ipykernel)",
   "language": "python",
   "name": "python3"
  },
  "language_info": {
   "codemirror_mode": {
    "name": "ipython",
    "version": 3
   },
   "file_extension": ".py",
   "mimetype": "text/x-python",
   "name": "python",
   "nbconvert_exporter": "python",
   "pygments_lexer": "ipython3",
   "version": "3.8.5"
  }
 },
 "nbformat": 4,
 "nbformat_minor": 5
}

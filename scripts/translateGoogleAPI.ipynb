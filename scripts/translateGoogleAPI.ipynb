{
 "cells": [
  {
   "cell_type": "code",
   "execution_count": 1,
   "metadata": {},
   "outputs": [
    {
     "name": "stderr",
     "output_type": "stream",
     "text": [
      "Using state Khomas server backend.\n"
     ]
    }
   ],
   "source": [
    "#Important Libraries\n",
    "import pandas as pd\n",
    "import re\n",
    "import translators as ts"
   ]
  },
  {
   "cell_type": "code",
   "execution_count": null,
   "metadata": {},
   "outputs": [],
   "source": [
    "# use ts._<translator_name>.language_map # e.g. ts._google.language_map\n",
    "# help(ts.google)\n",
    "help(ts.google)"
   ]
  },
  {
   "cell_type": "code",
   "execution_count": 4,
   "metadata": {},
   "outputs": [
    {
     "data": {
      "text/plain": [
       "'Iyo inokurumidza brown fox inosvetukira pamusoro peimbwa imbwa.'"
      ]
     },
     "execution_count": 4,
     "metadata": {},
     "output_type": "execute_result"
    }
   ],
   "source": [
    "#translate a single phrase\n",
    "phrase = 'The quick brown fox jumps over the lazy dog.'\n",
    "ts.google(phrase, from_language='en', to_language='sn')"
   ]
  },
  {
   "cell_type": "code",
   "execution_count": 6,
   "metadata": {},
   "outputs": [],
   "source": [
    "#Read data\n",
    "dataset1= pd.read_excel(\"datatobetranslated.xlsx\")"
   ]
  },
  {
   "cell_type": "code",
   "execution_count": null,
   "metadata": {},
   "outputs": [],
   "source": [
    "# translating a dataframe\n",
    "\n",
    "dataset1['Englishtext'] = dataset1['ShonaTweets'].apply(lambda x: ts.google(x, from_language='sn', to_language='en'))"
   ]
  }
 ],
 "metadata": {
  "kernelspec": {
   "display_name": "Python 3 (ipykernel)",
   "language": "python",
   "name": "python3"
  },
  "language_info": {
   "codemirror_mode": {
    "name": "ipython",
    "version": 3
   },
   "file_extension": ".py",
   "mimetype": "text/x-python",
   "name": "python",
   "nbconvert_exporter": "python",
   "pygments_lexer": "ipython3",
   "version": "3.8.5"
  }
 },
 "nbformat": 4,
 "nbformat_minor": 4
}
